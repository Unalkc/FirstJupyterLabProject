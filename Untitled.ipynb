{
 "cells": [
  {
   "cell_type": "markdown",
   "id": "adedb5a2-cb58-4e19-9f19-670306b70e85",
   "metadata": {},
   "source": [
    "# My First Project!"
   ]
  },
  {
   "cell_type": "markdown",
   "id": "5894bc5c-2c67-4156-ae09-eba54d1e1ec9",
   "metadata": {},
   "source": [
    "##### I am doing my first project on jupyter and i am so excited!"
   ]
  },
  {
   "cell_type": "markdown",
   "id": "a79d4b8c-918f-4d75-b98e-c830c2fdab34",
   "metadata": {},
   "source": [
    "## List Data Science Languages\n",
    "1. Python\n",
    "2. R\n",
    "3. SQL\n",
    "4. Julia\n",
    "5. Java\n",
    "6. Scala\n",
    "7. MATLAB\n",
    "8. SAS\n",
    "9. JavaScript "
   ]
  },
  {
   "cell_type": "markdown",
   "id": "6c23469f-aac0-45fa-86f6-6207b79250fe",
   "metadata": {},
   "source": [
    "## List of Data Science Libraries\n",
    "1. NumPy\n",
    "2. Pandas\n",
    "3. Matplotlib\n",
    "4. Seaborn\n",
    "5. Scikit-learn\n",
    "6. TensorFlow\n",
    "7. Keras\n",
    "8. PyTorch\n",
    "9. SciPy\n",
    "10. Statsmodels\n",
    "11. NLTK (Natural Language Toolkit)\n",
    "12. Gensim\n",
    "13. XGBoost\n",
    "14. LightGBM\n",
    "15. CatBoost\n",
    "16. Prophet\n",
    "17. Plotly\n",
    "18. Bokeh\n",
    "19. Dash\n",
    "20. NetworkX\n",
    "21. Dask\n",
    "22. Spark MLlib\n",
    "23. H2O.ai\n",
    "24. Yellowbrick\n",
    "25. Eli5 (Explain Like I'm 5)\n",
    "26. Fastai\n",
    "27. Feature-engine\n",
    "28. Hyperopt\n",
    "29. Boruta\n",
    "30. Ludwig"
   ]
  },
  {
   "cell_type": "markdown",
   "id": "4d2466b1-2110-45d5-add6-169a9874ef96",
   "metadata": {},
   "source": [
    "## data science tools:\n",
    "\n",
    "1. Python\n",
    "2. R\n",
    "3. Jupyter Notebooks/JupyterLab\n",
    "4. Anaconda\n",
    "5. SQL\n",
    "6. Apache Hadoop\n",
    "7. Apache Spark\n",
    "8. Tableau\n",
    "9. Power BI\n",
    "10. MATLAB\n",
    "11. SAS\n",
    "12. RapidMiner\n",
    "13. KNIME\n",
    "14. Weka\n",
    "15. Orange\n",
    "16. Alteryx\n",
    "17. Databricks\n",
    "18. Splunk\n",
    "19. QlikView\n",
    "20. IBM Watson Studio"
   ]
  },
  {
   "cell_type": "markdown",
   "id": "49011bc5-76ae-4d7e-bed7-06cda95162eb",
   "metadata": {},
   "source": [
    "## examples of arithmetic expressions:\n",
    "\n",
    "1. Addition: \\(2 + 3 = 5\\)\n",
    "2. Subtraction: \\(7 - 4 = 3\\)\n",
    "3. Multiplication: \\(5 \\times 6 = 30\\)\n",
    "4. Division: \\(10 \\div 2 = 5\\)\n",
    "5. Exponentiation: \\(2^3 = 8\\) (2 raised to the power of 3)\n",
    "6. Parentheses: \\( (4 + 3) \\times 2 = 14\\) (the expression inside parentheses is evaluated first)\n"
   ]
  },
  {
   "cell_type": "code",
   "execution_count": 2,
   "id": "56efc583-ddb3-4a8c-beae-e159e1456c25",
   "metadata": {},
   "outputs": [
    {
     "name": "stdout",
     "output_type": "stream",
     "text": [
      "7\n",
      "12\n"
     ]
    }
   ],
   "source": [
    "a = 3\n",
    "b = 4\n",
    "\n",
    "print(a+b)\n",
    "print(a*b)"
   ]
  },
  {
   "cell_type": "code",
   "execution_count": 8,
   "id": "f3f75489-19d7-4476-8782-0950da4e684a",
   "metadata": {},
   "outputs": [
    {
     "name": "stdout",
     "output_type": "stream",
     "text": [
      "2.0\n"
     ]
    }
   ],
   "source": [
    "minutes = 120\n",
    "hours = minutes / 60\n",
    "\n",
    "print(hours)"
   ]
  },
  {
   "cell_type": "markdown",
   "id": "0253a3de-1b12-43ab-865b-8737b864718a",
   "metadata": {},
   "source": [
    "## Objectives\n",
    "\n",
    "The objectives of this notebook are as follows:\n",
    "\n",
    "1. To introduce the reader to fundamental concepts in data science.\n",
    "2. To provide a comprehensive list of data science languages and libraries.\n",
    "3. To explore various data science tools available for analysis and visualization.\n",
    "4. To demonstrate arithmetic expression examples using Python.\n",
    "5. To showcase practical coding exercises involving addition, multiplication, and time conversion.\n",
    "6. To share insights into the author's approach to data science.\n",
    "7. To encourage collaboration and learning through GitHub sharing.\n",
    "8. To document the completion of the final project for evaluation.\n"
   ]
  },
  {
   "cell_type": "markdown",
   "id": "709698ac-8cf2-41a1-a92e-33d92b4ac734",
   "metadata": {},
   "source": [
    "## Author\n",
    "\n",
    "The author of this notebook is Ünal Koç.\n"
   ]
  },
  {
   "cell_type": "code",
   "execution_count": null,
   "id": "2cbf3c99-8480-41eb-84ad-46650715e48f",
   "metadata": {},
   "outputs": [],
   "source": []
  }
 ],
 "metadata": {
  "kernelspec": {
   "display_name": "Python 3 (ipykernel)",
   "language": "python",
   "name": "python3"
  },
  "language_info": {
   "codemirror_mode": {
    "name": "ipython",
    "version": 3
   },
   "file_extension": ".py",
   "mimetype": "text/x-python",
   "name": "python",
   "nbconvert_exporter": "python",
   "pygments_lexer": "ipython3",
   "version": "3.11.7"
  }
 },
 "nbformat": 4,
 "nbformat_minor": 5
}
